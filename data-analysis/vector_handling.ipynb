{
 "cells": [
  {
   "cell_type": "code",
   "execution_count": 1,
   "metadata": {},
   "outputs": [],
   "source": [
    "import pandas as pd"
   ]
  },
  {
   "cell_type": "code",
   "execution_count": 5,
   "metadata": {},
   "outputs": [],
   "source": [
    "df = pd.read_csv(\"/Users/barnabasepres/University/TDK/trump_speech_analysis/word2vec_vectors.csv\")\n"
   ]
  },
  {
   "cell_type": "code",
   "execution_count": 9,
   "metadata": {},
   "outputs": [
    {
     "data": {
      "text/html": [
       "<div>\n",
       "<style scoped>\n",
       "    .dataframe tbody tr th:only-of-type {\n",
       "        vertical-align: middle;\n",
       "    }\n",
       "\n",
       "    .dataframe tbody tr th {\n",
       "        vertical-align: top;\n",
       "    }\n",
       "\n",
       "    .dataframe thead th {\n",
       "        text-align: right;\n",
       "    }\n",
       "</style>\n",
       "<table border=\"1\" class=\"dataframe\">\n",
       "  <thead>\n",
       "    <tr style=\"text-align: right;\">\n",
       "      <th></th>\n",
       "      <th>Unnamed: 0.1</th>\n",
       "      <th>Unnamed: 0</th>\n",
       "      <th>textid</th>\n",
       "      <th>word</th>\n",
       "      <th>score</th>\n",
       "      <th>word_vectors</th>\n",
       "      <th>Vector</th>\n",
       "    </tr>\n",
       "  </thead>\n",
       "  <tbody>\n",
       "    <tr>\n",
       "      <th>0</th>\n",
       "      <td>0</td>\n",
       "      <td>rural</td>\n",
       "      <td>1</td>\n",
       "      <td>rural</td>\n",
       "      <td>7.567577</td>\n",
       "      <td>NaN</td>\n",
       "      <td>[array([ 0.06391316,  0.02213221,  0.10766918,...</td>\n",
       "    </tr>\n",
       "    <tr>\n",
       "      <th>1</th>\n",
       "      <td>1</td>\n",
       "      <td>badmouth</td>\n",
       "      <td>1</td>\n",
       "      <td>badmouth</td>\n",
       "      <td>7.453291</td>\n",
       "      <td>NaN</td>\n",
       "      <td>[array([-9.7940713e-01,  3.8866898e-01,  4.681...</td>\n",
       "    </tr>\n",
       "    <tr>\n",
       "      <th>2</th>\n",
       "      <td>2</td>\n",
       "      <td>debbi</td>\n",
       "      <td>1</td>\n",
       "      <td>debbi</td>\n",
       "      <td>6.931008</td>\n",
       "      <td>NaN</td>\n",
       "      <td>[array([ 0.0026027 ,  0.00392018,  0.511039  ,...</td>\n",
       "    </tr>\n",
       "    <tr>\n",
       "      <th>3</th>\n",
       "      <td>3</td>\n",
       "      <td>swift</td>\n",
       "      <td>1</td>\n",
       "      <td>swift</td>\n",
       "      <td>6.931008</td>\n",
       "      <td>NaN</td>\n",
       "      <td>[array([-0.45648408, -0.09665676, -0.00343847,...</td>\n",
       "    </tr>\n",
       "    <tr>\n",
       "      <th>4</th>\n",
       "      <td>4</td>\n",
       "      <td>pastor</td>\n",
       "      <td>1</td>\n",
       "      <td>pastor</td>\n",
       "      <td>6.511030</td>\n",
       "      <td>NaN</td>\n",
       "      <td>[array([-0.5832773 , -0.12852053,  0.7659066 ,...</td>\n",
       "    </tr>\n",
       "  </tbody>\n",
       "</table>\n",
       "</div>"
      ],
      "text/plain": [
       "   Unnamed: 0.1 Unnamed: 0  textid      word     score  word_vectors  \\\n",
       "0             0      rural       1     rural  7.567577           NaN   \n",
       "1             1   badmouth       1  badmouth  7.453291           NaN   \n",
       "2             2      debbi       1     debbi  6.931008           NaN   \n",
       "3             3      swift       1     swift  6.931008           NaN   \n",
       "4             4     pastor       1    pastor  6.511030           NaN   \n",
       "\n",
       "                                              Vector  \n",
       "0  [array([ 0.06391316,  0.02213221,  0.10766918,...  \n",
       "1  [array([-9.7940713e-01,  3.8866898e-01,  4.681...  \n",
       "2  [array([ 0.0026027 ,  0.00392018,  0.511039  ,...  \n",
       "3  [array([-0.45648408, -0.09665676, -0.00343847,...  \n",
       "4  [array([-0.5832773 , -0.12852053,  0.7659066 ,...  "
      ]
     },
     "execution_count": 9,
     "metadata": {},
     "output_type": "execute_result"
    }
   ],
   "source": [
    "df.head()\n"
   ]
  },
  {
   "cell_type": "code",
   "execution_count": null,
   "metadata": {},
   "outputs": [],
   "source": []
  }
 ],
 "metadata": {
  "kernelspec": {
   "display_name": "base",
   "language": "python",
   "name": "python3"
  },
  "language_info": {
   "codemirror_mode": {
    "name": "ipython",
    "version": 3
   },
   "file_extension": ".py",
   "mimetype": "text/x-python",
   "name": "python",
   "nbconvert_exporter": "python",
   "pygments_lexer": "ipython3",
   "version": "3.12.2"
  }
 },
 "nbformat": 4,
 "nbformat_minor": 2
}

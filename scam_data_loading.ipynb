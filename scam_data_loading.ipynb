{
 "cells": [
  {
   "cell_type": "code",
   "execution_count": 2,
   "metadata": {},
   "outputs": [],
   "source": [
    "from pytubefix import YouTube\n",
    "from pytubefix.cli import on_progress\n",
    "from pyannote.audio import Pipeline\n",
    "from pydub import AudioSegment\n",
    "from transformers import AutoModelForSpeechSeq2Seq, AutoProcessor, pipeline\n",
    "import torch\n",
    "import os\n",
    "import whisper\n",
    "import warnings\n",
    "import pandas as pd\n",
    "import accelerate\n",
    "import pprint \n",
    "pd.set_option('display.max_rows', 500)\n",
    "warnings.filterwarnings('ignore')\n",
    " "
   ]
  },
  {
   "cell_type": "code",
   "execution_count": 3,
   "metadata": {},
   "outputs": [],
   "source": [
    "#get video urls\n",
    "speeches = pd.read_excel(\"speeches.xlsx\")"
   ]
  },
  {
   "cell_type": "code",
   "execution_count": 3,
   "metadata": {},
   "outputs": [],
   "source": [
    "#script to save audio files\n",
    "def save_audio(url, output_path, filename):\n",
    "    try:\n",
    "        yt = YouTube(url)\n",
    "        print(f\"Downloading: {yt.title}\")\n",
    "        \n",
    "        # Get audio-only stream\n",
    "        ys = yt.streams.get_audio_only()\n",
    "        \n",
    "        # Ensure output directory exists\n",
    "        os.makedirs(output_path, exist_ok=True)\n",
    "        \n",
    "        # Temporary file name (original format)\n",
    "        temp_filename = f\"{filename}.webm\"\n",
    "        temp_filepath = os.path.join(output_path, temp_filename)\n",
    "        \n",
    "        # Download audio in original format\n",
    "        ys.download(output_path=output_path, filename=temp_filename)\n",
    "        \n",
    "        # Convert to MP3\n",
    "        final_filename = f\"{filename}.mp3\"\n",
    "        final_filepath = os.path.join(output_path, final_filename)\n",
    "        audio = AudioSegment.from_file(temp_filepath)\n",
    "        audio.export(final_filepath, format=\"mp3\")\n",
    "        \n",
    "        # Remove the temporary file\n",
    "        os.remove(temp_filepath)\n",
    "        print(f\"Downloaded and converted to MP3: {final_filename}\")\n",
    "    \n",
    "    except Exception as e:\n",
    "        print(\"----- Download failed: -----\")\n",
    "        print(f\"URL: {url}\")\n",
    "        print(f\"Error: {e}\")\n"
   ]
  },
  {
   "cell_type": "code",
   "execution_count": 8,
   "metadata": {},
   "outputs": [],
   "source": [
    "url_list = speeches[\"url\"].to_list()"
   ]
  },
  {
   "cell_type": "code",
   "execution_count": null,
   "metadata": {},
   "outputs": [
    {
     "name": "stdout",
     "output_type": "stream",
     "text": [
      "Downloading: 🇺🇸 Donald Trump at Turning Point USA Rally in Phoenix, Arizona (June 6, 2024)\n",
      "Downloaded and converted to MP3: speech_1_\"2024-06-06\"_AZ.mp3\n",
      "Downloading: 🇺🇸 Donald Trump | Save America Rally at Sunset Park in Las Vegas, Nevada (June 9, 2024) [LIVE]\n",
      "Downloaded and converted to MP3: speech_2_\"2024-06-09\"_NV.mp3\n",
      "Downloading: 🇺🇸 Donald Trump | The People’s Convention by Turning Point USA in Detroit, Michigan (June 15, 2024)\n",
      "Downloaded and converted to MP3: speech_3_\"2024-06-15\"_MI.mp3\n",
      "Downloading: 🇺🇸 Donald Trump | Full Speech at Rally in Racine, Wisconsin (Subtitles) [Multilanguage CC]\n",
      "Downloaded and converted to MP3: speech_4_\"2024-06-18\"_WI.mp3\n",
      "Downloading: Donald Trump's speech Philadelphia June 22, 2024 I Temple University I @DonaldJTrumpforPresident\n",
      "Downloaded and converted to MP3: speech_5_\"2024-06-22\"_PA.mp3\n",
      "Downloading: Donald Trump campaign rally in Chesapeake, Virginia, one day after first 2024 presidential debate\n",
      "Downloaded and converted to MP3: speech_6_\"2024-06-28\"_VA.mp3\n",
      "Downloading: LIVE: Donald Trump hosts MAGA rally in Florida\n",
      "Downloaded and converted to MP3: speech_7_\"2024-07-09\"_FL.mp3\n",
      "Downloading: 🇺🇸 Donald Trump | Presidential Election Rally in Butler, Pennsylvania (July 13, 2024) [LIVE]\n",
      "Downloaded and converted to MP3: speech_8_\"2024-07-13\"_PA.mp3\n",
      "Downloading: WATCH: Trump FULL SPEECH in Michigan, first rally since assassination attempt | LiveNOW FOX\n",
      "Downloaded and converted to MP3: speech_9_\"2024-07-20\"_MI.mp3\n",
      "Downloading: 🇺🇸 Donald Trump | Full Speech at Rally in Charlotte, North Carolina [CC Subtitles] (July 24, 2024)\n",
      "Downloaded and converted to MP3: speech_10_\"2024-07-24\"_NC.mp3\n",
      "Downloading: WATCH: Trump rally FULL SPEECH at St Cloud campaign event | LiveNOW from FOX\n",
      "Downloaded and converted to MP3: speech_11_\"2024-07-27\"_MN.mp3\n",
      "Downloading: 🇺🇸 Donald Trump | Full Speech at MAGA Rally in Harrisburg, Pennsylvania (July 31, 2024) [LIVE]\n",
      "Downloaded and converted to MP3: speech_12_\"2024-07-31\"_PA.mp3\n",
      "Downloading: LIVE: Donald Trump speaks at MAGA rally in Georgia\n",
      "Downloaded and converted to MP3: speech_13_\"2024-08-03\"_GA.mp3\n",
      "Downloading: LIVE: Donald Trump hosts MAGA rally in Montana\n",
      "Downloaded and converted to MP3: speech_14_\"2024-08-09\"_MT.mp3\n",
      "Downloading: Donald Trump economic plan: FULL SPEECH\n",
      "Downloaded and converted to MP3: speech_15_\"2024-08-14\"_NC.mp3\n",
      "Downloading: Donald Trump full speech at campaign rally in Wilkes-Barre, PA (Aug. 17, 2024)\n",
      "Downloaded and converted to MP3: speech_16_\"2024-08-17\"_PA.mp3\n",
      "Downloading: 🇺🇸 Donald Trump & JD Vance Rally in Asheboro, North Carolina (August 21, 2024) [LIVE]\n",
      "Downloaded and converted to MP3: speech_17_\"2024-08-21\"_NC.mp3\n",
      "Downloading: 🇺🇸 Donald J. Trump & Robert F. Kennedy Jr. at Rally in Glendale, Arizona (August 23, 2024) [CC]\n",
      "Downloaded and converted to MP3: speech_18_\"2024-08-23\"_AZ.mp3\n",
      "Downloading: Donald Trump holds town hall in La Crosse, WI (Aug. 29, 2024)\n",
      "Downloaded and converted to MP3: speech_19_\"2024-08-29\"_WI.mp3\n",
      "Downloading: Donald Trump full speech at rally in Johnstown, PA (Aug. 30. 2024)\n",
      "Downloaded and converted to MP3: speech_20_\"2024-08-30\"_PA.mp3\n",
      "Downloading: Donald Trump full rally in Mosinee, WI (Sept. 7, 2024)\n",
      "Downloaded and converted to MP3: speech_21_\"2024-09-07\"_WI.mp3\n",
      "Downloading: WATCH LIVE: Trump appears at campaign rally in Tucson, Arizona, first since debate with Harris\n",
      "Downloaded and converted to MP3: speech_22_\"2024-09-12\"_AZ.mp3\n",
      "Downloading: FULL SPEECH: Trump holds rally in Las Vegas | LiveNOW from FOX\n",
      "Downloaded and converted to MP3: speech_23_\"2024-09-13\"_NV.mp3\n",
      "Downloading: Donald Trump holds town hall in Flint, MI moderated by Gov. Sarah Sanders (Sept. 17, 2024)\n",
      "Downloaded and converted to MP3: speech_24_\"2024-09-17\"_MI.mp3\n",
      "Downloading: FULL SPEECH: Trump holds rally on Long Island  | LiveNOW from FOX\n",
      "Downloaded and converted to MP3: speech_25_\"2024-09-18\"_NY.mp3\n",
      "Downloading: Donald Trump full speech at campaign rally in Wilmington, NC (Sept. 21, 2024)\n",
      "Downloaded and converted to MP3: speech_26_\"2024-09-21\"_NC.mp3\n",
      "Downloading: FULL SPEECH: Trump holds rally in Pennsylvania | LiveNOW from FOX\n",
      "Downloaded and converted to MP3: speech_27_\"2024-09-23\"_PA.mp3\n",
      "Downloading: FULL SPEECH: Donald Trump holds rally in Savannah, GA | LiveNOW from FOX\n",
      "Downloaded and converted to MP3: speech_28_\"2024-09-24\"_GA.mp3\n",
      "Downloading: 🇺🇸 Donald Trump | Remarks in Mint Hill, North Carolina (Sept. 25, 2024) [LIVE]\n",
      "Downloaded and converted to MP3: speech_29_\"2024-09-25\"_NC.mp3\n",
      "Downloading: WATCH LIVE: Trump holds campaign rally in Walker, Mich.\n",
      "Downloaded and converted to MP3: speech_30_\"2024-09-27\"_MI.mp3\n",
      "Downloading: FULL SPEECH: Trump speaks on immigration in battleground Wisconsin  | LiveNOW from FOX\n",
      "Downloaded and converted to MP3: speech_31_\"2024-09-28\"_WI.mp3\n",
      "Downloading: Donald Trump full speech at campaign rally in Allentown, PA (Oct. 29, 2024)\n",
      "Downloaded and converted to MP3: speech_32_\"2024-09-29\"_PA.mp3\n",
      "Downloading: Donald Trump full speech at campaign event in Waunakee, WI (Oct. 1, 2024)\n",
      "Downloaded and converted to MP3: speech_33_\"2024-10-01\"_WI.mp3\n",
      "Downloading: FULL SPEECH: Donald Trump Rally in Saginaw, Michigan | LiveNOW from FOX\n",
      "Downloaded and converted to MP3: speech_34_\"2024-10-03\"_MI.mp3\n",
      "Downloading: FULL TOWN HALL: Trump Takes Questions From Voters At Campaign Event In Fayetteville, North Carolina\n",
      "Downloaded and converted to MP3: speech_35_\"2024-10-04\"_NC.mp3\n",
      "Downloading: Donald Trump full speech at Pennsylvania rally (October 5, 2024)\n",
      "Downloaded and converted to MP3: speech_36_\"2024-10-05\"_PA.mp3\n",
      "Downloading: FULL SPEECH: Trump speaks in battleground Wisconsin  | LiveNOW from FOX\n",
      "Downloaded and converted to MP3: speech_37_\"2024-10-06\"_WI.mp3\n",
      "Downloading: Donald Trump full speech at rally in Reading, PA (Oct. 9, 2024)\n",
      "Downloaded and converted to MP3: speech_38_\"2024-10-09\"_PA.mp3\n",
      "Downloading: FULL SPEECH: President Trump Holds a Rally in Reno, Nevada - 10/11/24\n",
      "Downloaded and converted to MP3: speech_39_\"2024-10-11\"_NV.mp3\n",
      "Downloading: L​IVE REPLAY: President Trump Holds a Rally in Aurora, CO - 10/11/24\n",
      "Downloaded and converted to MP3: speech_40_\"2024-10-11\"_CO.mp3\n",
      "Downloading: LIVE REPLAY: President Trump Holds a Rally in Coachella, CA - 10/12/24\n",
      "Downloaded and converted to MP3: speech_41_\"2024-10-12\"_CA.mp3\n",
      "Downloading: LIVE: Donald Trump Hosts Rally in Prescott Valley, AZ | October 13, 2024\n",
      "Downloaded and converted to MP3: speech_42_\"2024-10-13\"_AZ.mp3\n",
      "Downloading: LIVE REPLAY: President Trump Delivers Remarks at Town Hall in Oaks, PA - 10/14/24\n",
      "Downloaded and converted to MP3: speech_43_\"2024-10-14\"_PA.mp3\n",
      "Downloading: Donald Trump full speech at campaign rally in Georgia\n",
      "Downloaded and converted to MP3: speech_44_\"2024-10-15\"_GA.mp3\n",
      "Downloading: 🇺🇸 Donald Trump | Full speech at MAGA Rally in Detroit, Michigan [Subtitles] (Oct 18, 2024)\n",
      "Downloaded and converted to MP3: speech_45_\"2024-10-18\"_MI.mp3\n",
      "Downloading: Donald Trump full speech at Latrobe, PA rally (Oct. 19, 2024)\n",
      "Downloaded and converted to MP3: speech_46_\"2024-10-19\"_PA.mp3\n",
      "Downloading: WATCH LIVE: Trump speaks at town hall in Lancaster, Pennsylvania\n",
      "Downloaded and converted to MP3: speech_47_\"2024-10-20\"_PA.mp3\n",
      "Downloading: WATCH LIVE: Trump speaks at campaign rally in Greenville, North Carolina\n",
      "Downloaded and converted to MP3: speech_48_\"2024-10-21\"_NC.mp3\n",
      "Downloading: Donald Trump full speech at campaign rally in Greensboro, NC (Oct. 22, 2024)\n",
      "Downloaded and converted to MP3: speech_49_\"2024-10-22\"_NC.mp3\n",
      "Downloading: LIVE REPLAY: President Trump Keynotes Turning Point Rally in Duluth, GA - 10/23/24\n",
      "Downloaded and converted to MP3: speech_50_\"2024-10-23\"_GA.mp3\n",
      "Downloading: Republican presidential nominee Donald Trump holds campaign rally in Arizona - Watch in full\n",
      "Downloaded and converted to MP3: speech_51_\"2024-10-24\"_AZ.mp3\n",
      "Downloading: FULL REMARKS: Trump campaigns in battleground Nevada  | LiveNOW from FOX\n",
      "Downloaded and converted to MP3: speech_52_\"2024-10-24\"_NV.mp3\n",
      "Downloading: 🇺🇸 Donald Trump | Full subtitled speech at rally in Traverse City, Michigan (Oct 25, 2024)\n",
      "Downloaded and converted to MP3: speech_53_\"2024-10-25\"_MI.mp3\n",
      "Downloading: Donald Trump holds a rally in State College, Pennsylvania │ 26 October\n",
      "Downloaded and converted to MP3: speech_54_\"2024-10-26\"_PA.mp3\n",
      "Downloading: FULL SPEECH: Trump holds MSG rally in NYC | LiveNOW from FOX\n",
      "Downloaded and converted to MP3: speech_55_\"2024-10-27\"_NY.mp3\n",
      "Downloading: Donald Trump full speech at campaign event in Atlanta, GA (Oct. 28, 2024)\n",
      "Downloaded and converted to MP3: speech_56_\"2024-10-28\"_GA.mp3\n",
      "Downloading: Donald Trump full speech at campaign rally in Allentown, PA (Oct. 29, 2024)\n",
      "Downloaded and converted to MP3: speech_57_\"2024-10-29\"_PA.mp3\n",
      "Downloading: Trump campaigns in North Carolina | LiveNOW from FOX\n",
      "Downloaded and converted to MP3: speech_58_\"2024-10-30\"_NC.mp3\n",
      "Downloading: WATCH: Trump wears orange vest during campaign speech in battleground Wisconsin | LiveNOW from FOX\n",
      "Downloaded and converted to MP3: speech_59_\"2024-10-30\"_WI.mp3\n",
      "Downloading: Trump delivers remarks at a campaign rally in New Mexico\n",
      "Downloaded and converted to MP3: speech_60_\"2024-10-31\"_NM.mp3\n",
      "Downloading: Donald Trump full speech at campaign rally in Nevada\n",
      "Downloaded and converted to MP3: speech_61_\"2024-10-31\"_NV.mp3\n",
      "Downloading: LIVE: Donald Trump and Tucker Carlson host major MAGA event in Arizona\n",
      "Downloaded and converted to MP3: speech_62_\"2024-10-31\"_AZ.mp3\n",
      "Downloading: Donald Trump full speech at campaign rally in Warren, MI (Nov. 1)\n",
      "Downloaded and converted to MP3: speech_63_\"2024-11-01\"_MI.mp3\n",
      "Downloading: WATCH: Trump speaks at campaign rally in Milwaukee, Wisconsin  | LiveNOW from FOX\n",
      "Downloaded and converted to MP3: speech_64_\"2024-11-01\"_WI.mp3\n",
      "Downloading: LIVE REPLAY: President Trump Holds a Rally in Gastonia, NC - 11/2/24\n",
      "Downloaded and converted to MP3: speech_65_\"2024-11-02\"_NC.mp3\n",
      "Downloading: LIVE ~ President Donald Trump Speaks at a Rally in Salem, Virginia ~ November 2 2024\n",
      "Downloaded and converted to MP3: speech_66_\"2024-11-02\"_VA.mp3\n",
      "Downloading: Donald Trump full speech at campaign rally in Greensboro, NC (Oct. 22, 2024)\n",
      "Downloaded and converted to MP3: speech_67_\"2024-11-02\"_NC.mp3\n",
      "Downloading: LIVE REPLAY: President Trump Holds a Rally in Lititz, PA - 11/3/24\n",
      "Downloaded and converted to MP3: speech_68_\"2024-11-03\"_PA.mp3\n",
      "Downloading: FULL SPEECH: Trump speaks at North Carolina rally | LiveNOW from FOX\n",
      "Downloaded and converted to MP3: speech_69_\"2024-11-03\"_NC.mp3\n",
      "Downloading: Donald Trump full speech at campaign rally in Georgia\n",
      "Downloaded and converted to MP3: speech_70_\"2024-11-03\"_GA.mp3\n",
      "Downloading: Donald Trump full speech at campaign rally in North Carolina\n",
      "Downloaded and converted to MP3: speech_71_\"2024-11-04\"_NC.mp3\n",
      "Downloading: Donald Trump full speech at campaign event in Reading, PA (Nov. 4, 2024)\n",
      "Downloaded and converted to MP3: speech_72_\"2024-11-04\"_PA.mp3\n",
      "Downloading: Donald Trump full speech at campaign event in Pittsburgh, PA (Nov. 4, 2024)\n",
      "Downloaded and converted to MP3: speech_73_\"2024-11-04\"_PA.mp3\n",
      "Downloading: In full: Donald Trump's final MAGA rally speech in Grand Rapids, Michigan\n",
      "Downloaded and converted to MP3: speech_74_\"2024-11-04\"_MI.mp3\n"
     ]
    }
   ],
   "source": [
    "\n",
    "for i, url in enumerate(url_list, start=1):\n",
    "    output_path = \"./audio_files\"  \n",
    "    filename = f\"speech_{i}_{speeches[\"date\"][i-1]}_{speeches[\"state\"][i-1]}\"\n",
    "    save_audio(url, output_path=output_path, filename=filename)"
   ]
  },
  {
   "cell_type": "code",
   "execution_count": 4,
   "metadata": {},
   "outputs": [
    {
     "name": "stderr",
     "output_type": "stream",
     "text": [
      "Device set to use cpu\n"
     ]
    },
    {
     "name": "stdout",
     "output_type": "stream",
     "text": [
      "Model and pipe has been initiated.\n"
     ]
    }
   ],
   "source": [
    "#initiate model to script the audio files\n",
    "device = \"cuda:0\" if torch.cuda.is_available() else \"cpu\"\n",
    "torch_dtype = torch.float16 if torch.cuda.is_available() else torch.float32\n",
    "\n",
    "model_id = \"openai/whisper-large-v3\"\n",
    "\n",
    "model = AutoModelForSpeechSeq2Seq.from_pretrained(\n",
    "    model_id, torch_dtype=torch_dtype, low_cpu_mem_usage=False, use_safetensors=True\n",
    ")\n",
    "model.to(device)\n",
    "\n",
    "processor = AutoProcessor.from_pretrained(model_id)\n",
    "\n",
    "pipe = pipeline(\n",
    "    \"automatic-speech-recognition\",\n",
    "    model=model,\n",
    "    tokenizer=processor.tokenizer,\n",
    "    feature_extractor=processor.feature_extractor,\n",
    "    torch_dtype=torch_dtype,\n",
    "    device=device,\n",
    ")\n",
    "\n",
    "print(\"Model and pipe has been initiated.\")"
   ]
  },
  {
   "cell_type": "code",
   "execution_count": 11,
   "metadata": {},
   "outputs": [
    {
     "name": "stdout",
     "output_type": "stream",
     "text": [
      "Generating transcript of speech_1_\"2024-06-06\"_AZ.mp3\n"
     ]
    },
    {
     "name": "stderr",
     "output_type": "stream",
     "text": [
      "Due to a bug fix in https://github.com/huggingface/transformers/pull/28687 transcription using a multilingual Whisper will default to language detection followed by transcription instead of translation to English.This might be a breaking change for your use case. If you want to instead always translate your audio to English, make sure to pass `language='en'`.\n",
      "Passing a tuple of `past_key_values` is deprecated and will be removed in Transformers v4.43.0. You should pass an instance of `EncoderDecoderCache` instead, e.g. `past_key_values=EncoderDecoderCache.from_legacy_cache(past_key_values)`.\n",
      "Whisper did not predict an ending timestamp, which can happen if audio is cut off in the middle of a word. Also make sure WhisperTimeStampLogitsProcessor was used during generation.\n"
     ]
    },
    {
     "name": "stdout",
     "output_type": "stream",
     "text": [
      "Transcript has been generated.\n",
      "Transcript has been added to the folder.\n",
      "Generating transcript of speech_2_\"2024-06-09\"_NV.mp3\n"
     ]
    },
    {
     "name": "stderr",
     "output_type": "stream",
     "text": [
      "Whisper did not predict an ending timestamp, which can happen if audio is cut off in the middle of a word. Also make sure WhisperTimeStampLogitsProcessor was used during generation.\n"
     ]
    },
    {
     "name": "stdout",
     "output_type": "stream",
     "text": [
      "Transcript has been generated.\n",
      "Transcript has been added to the folder.\n",
      "Generating transcript of speech_3_\"2024-06-15\"_MI.mp3\n",
      "Transcript has been generated.\n",
      "Transcript has been added to the folder.\n",
      "Generating transcript of speech_4_\"2024-06-18\"_WI.mp3\n"
     ]
    },
    {
     "name": "stderr",
     "output_type": "stream",
     "text": [
      "Whisper did not predict an ending timestamp, which can happen if audio is cut off in the middle of a word. Also make sure WhisperTimeStampLogitsProcessor was used during generation.\n"
     ]
    },
    {
     "name": "stdout",
     "output_type": "stream",
     "text": [
      "Transcript has been generated.\n",
      "Transcript has been added to the folder.\n",
      "Generating transcript of speech_5_\"2024-06-22\"_PA.mp3\n"
     ]
    },
    {
     "name": "stderr",
     "output_type": "stream",
     "text": [
      "Whisper did not predict an ending timestamp, which can happen if audio is cut off in the middle of a word. Also make sure WhisperTimeStampLogitsProcessor was used during generation.\n"
     ]
    },
    {
     "name": "stdout",
     "output_type": "stream",
     "text": [
      "Transcript has been generated.\n",
      "Transcript has been added to the folder.\n",
      "Generating transcript of speech_6_\"2024-06-28\"_VA.mp3\n"
     ]
    },
    {
     "name": "stderr",
     "output_type": "stream",
     "text": [
      "Whisper did not predict an ending timestamp, which can happen if audio is cut off in the middle of a word. Also make sure WhisperTimeStampLogitsProcessor was used during generation.\n"
     ]
    },
    {
     "name": "stdout",
     "output_type": "stream",
     "text": [
      "Transcript has been generated.\n",
      "Transcript has been added to the folder.\n",
      "Generating transcript of speech_7_\"2024-07-09\"_FL.mp3\n",
      "Transcript has been generated.\n",
      "Transcript has been added to the folder.\n",
      "Generating transcript of speech_9_\"2024-07-20\"_MI.mp3\n"
     ]
    },
    {
     "name": "stderr",
     "output_type": "stream",
     "text": [
      "Whisper did not predict an ending timestamp, which can happen if audio is cut off in the middle of a word. Also make sure WhisperTimeStampLogitsProcessor was used during generation.\n"
     ]
    },
    {
     "name": "stdout",
     "output_type": "stream",
     "text": [
      "Transcript has been generated.\n",
      "Transcript has been added to the folder.\n",
      "Generating transcript of speech_10_\"2024-07-24\"_NC.mp3\n"
     ]
    },
    {
     "name": "stderr",
     "output_type": "stream",
     "text": [
      "Whisper did not predict an ending timestamp, which can happen if audio is cut off in the middle of a word. Also make sure WhisperTimeStampLogitsProcessor was used during generation.\n"
     ]
    },
    {
     "name": "stdout",
     "output_type": "stream",
     "text": [
      "Transcript has been generated.\n",
      "Transcript has been added to the folder.\n",
      "Generating transcript of speech_11_\"2024-07-27\"_MN.mp3\n",
      "Transcript has been generated.\n",
      "Transcript has been added to the folder.\n",
      "Generating transcript of speech_12_\"2024-07-31\"_PA.mp3\n",
      "Transcript has been generated.\n",
      "Transcript has been added to the folder.\n",
      "Generating transcript of speech_13_\"2024-08-03\"_GA.mp3\n",
      "Transcript has been generated.\n",
      "Transcript has been added to the folder.\n",
      "Generating transcript of speech_14_\"2024-08-09\"_MT.mp3\n",
      "Transcript has been generated.\n",
      "Transcript has been added to the folder.\n",
      "Generating transcript of speech_15_\"2024-08-14\"_NC.mp3\n",
      "Transcript has been generated.\n",
      "Transcript has been added to the folder.\n",
      "Generating transcript of speech_16_\"2024-08-17\"_PA.mp3\n",
      "Transcript has been generated.\n",
      "Transcript has been added to the folder.\n",
      "Generating transcript of speech_17_\"2024-08-21\"_NC.mp3\n",
      "Transcript has been generated.\n",
      "Transcript has been added to the folder.\n",
      "Generating transcript of speech_18_\"2024-08-23\"_AZ.mp3\n",
      "Transcript has been generated.\n",
      "Transcript has been added to the folder.\n",
      "Generating transcript of speech_19_\"2024-08-29\"_WI.mp3\n",
      "Transcript has been generated.\n",
      "Transcript has been added to the folder.\n",
      "Generating transcript of speech_20_\"2024-08-30\"_PA.mp3\n",
      "Transcript has been generated.\n",
      "Transcript has been added to the folder.\n",
      "Generating transcript of speech_21_\"2024-09-07\"_WI.mp3\n"
     ]
    },
    {
     "name": "stderr",
     "output_type": "stream",
     "text": [
      "Whisper did not predict an ending timestamp, which can happen if audio is cut off in the middle of a word. Also make sure WhisperTimeStampLogitsProcessor was used during generation.\n"
     ]
    },
    {
     "name": "stdout",
     "output_type": "stream",
     "text": [
      "Transcript has been generated.\n",
      "Transcript has been added to the folder.\n",
      "Generating transcript of speech_22_\"2024-09-12\"_AZ.mp3\n"
     ]
    },
    {
     "name": "stderr",
     "output_type": "stream",
     "text": [
      "Whisper did not predict an ending timestamp, which can happen if audio is cut off in the middle of a word. Also make sure WhisperTimeStampLogitsProcessor was used during generation.\n"
     ]
    },
    {
     "name": "stdout",
     "output_type": "stream",
     "text": [
      "Transcript has been generated.\n",
      "Transcript has been added to the folder.\n",
      "Generating transcript of speech_23_\"2024-09-13\"_NV.mp3\n"
     ]
    },
    {
     "name": "stderr",
     "output_type": "stream",
     "text": [
      "Whisper did not predict an ending timestamp, which can happen if audio is cut off in the middle of a word. Also make sure WhisperTimeStampLogitsProcessor was used during generation.\n"
     ]
    },
    {
     "name": "stdout",
     "output_type": "stream",
     "text": [
      "Transcript has been generated.\n",
      "Transcript has been added to the folder.\n",
      "Generating transcript of speech_24_\"2024-09-17\"_MI.mp3\n",
      "Transcript has been generated.\n",
      "Transcript has been added to the folder.\n",
      "Generating transcript of speech_25_\"2024-09-18\"_NY.mp3\n"
     ]
    },
    {
     "name": "stderr",
     "output_type": "stream",
     "text": [
      "Whisper did not predict an ending timestamp, which can happen if audio is cut off in the middle of a word. Also make sure WhisperTimeStampLogitsProcessor was used during generation.\n"
     ]
    },
    {
     "name": "stdout",
     "output_type": "stream",
     "text": [
      "Transcript has been generated.\n",
      "Transcript has been added to the folder.\n",
      "Generating transcript of speech_26_\"2024-09-21\"_NC.mp3\n"
     ]
    },
    {
     "name": "stderr",
     "output_type": "stream",
     "text": [
      "Whisper did not predict an ending timestamp, which can happen if audio is cut off in the middle of a word. Also make sure WhisperTimeStampLogitsProcessor was used during generation.\n"
     ]
    },
    {
     "name": "stdout",
     "output_type": "stream",
     "text": [
      "Transcript has been generated.\n",
      "Transcript has been added to the folder.\n",
      "Generating transcript of speech_27_\"2024-09-23\"_PA.mp3\n"
     ]
    },
    {
     "name": "stderr",
     "output_type": "stream",
     "text": [
      "Whisper did not predict an ending timestamp, which can happen if audio is cut off in the middle of a word. Also make sure WhisperTimeStampLogitsProcessor was used during generation.\n"
     ]
    },
    {
     "name": "stdout",
     "output_type": "stream",
     "text": [
      "Transcript has been generated.\n",
      "Transcript has been added to the folder.\n",
      "Generating transcript of speech_28_\"2024-09-24\"_GA.mp3\n"
     ]
    },
    {
     "name": "stderr",
     "output_type": "stream",
     "text": [
      "Whisper did not predict an ending timestamp, which can happen if audio is cut off in the middle of a word. Also make sure WhisperTimeStampLogitsProcessor was used during generation.\n"
     ]
    },
    {
     "name": "stdout",
     "output_type": "stream",
     "text": [
      "Transcript has been generated.\n",
      "Transcript has been added to the folder.\n",
      "Generating transcript of speech_29_\"2024-09-25\"_NC.mp3\n"
     ]
    },
    {
     "name": "stderr",
     "output_type": "stream",
     "text": [
      "Whisper did not predict an ending timestamp, which can happen if audio is cut off in the middle of a word. Also make sure WhisperTimeStampLogitsProcessor was used during generation.\n"
     ]
    },
    {
     "name": "stdout",
     "output_type": "stream",
     "text": [
      "Transcript has been generated.\n",
      "Transcript has been added to the folder.\n",
      "Generating transcript of speech_30_\"2024-09-27\"_MI.mp3\n",
      "Transcript has been generated.\n",
      "Transcript has been added to the folder.\n",
      "Generating transcript of speech_31_\"2024-09-28\"_WI.mp3\n",
      "Transcript has been generated.\n",
      "Transcript has been added to the folder.\n",
      "Generating transcript of speech_32_\"2024-09-29\"_PA.mp3\n",
      "Transcript has been generated.\n",
      "Transcript has been added to the folder.\n",
      "Generating transcript of speech_33_\"2024-10-01\"_WI.mp3\n",
      "Transcript has been generated.\n",
      "Transcript has been added to the folder.\n",
      "Generating transcript of speech_34_\"2024-10-03\"_MI.mp3\n",
      "Transcript has been generated.\n",
      "Transcript has been added to the folder.\n",
      "Generating transcript of speech_35_\"2024-10-04\"_NC.mp3\n",
      "Transcript has been generated.\n",
      "Transcript has been added to the folder.\n",
      "Generating transcript of speech_36_\"2024-10-05\"_PA.mp3\n"
     ]
    },
    {
     "name": "stderr",
     "output_type": "stream",
     "text": [
      "Whisper did not predict an ending timestamp, which can happen if audio is cut off in the middle of a word. Also make sure WhisperTimeStampLogitsProcessor was used during generation.\n"
     ]
    },
    {
     "name": "stdout",
     "output_type": "stream",
     "text": [
      "Transcript has been generated.\n",
      "Transcript has been added to the folder.\n",
      "Generating transcript of speech_37_\"2024-10-06\"_WI.mp3\n"
     ]
    },
    {
     "name": "stderr",
     "output_type": "stream",
     "text": [
      "Whisper did not predict an ending timestamp, which can happen if audio is cut off in the middle of a word. Also make sure WhisperTimeStampLogitsProcessor was used during generation.\n"
     ]
    },
    {
     "name": "stdout",
     "output_type": "stream",
     "text": [
      "Transcript has been generated.\n",
      "Transcript has been added to the folder.\n",
      "Generating transcript of speech_38_\"2024-10-09\"_PA.mp3\n"
     ]
    },
    {
     "name": "stderr",
     "output_type": "stream",
     "text": [
      "Whisper did not predict an ending timestamp, which can happen if audio is cut off in the middle of a word. Also make sure WhisperTimeStampLogitsProcessor was used during generation.\n"
     ]
    },
    {
     "name": "stdout",
     "output_type": "stream",
     "text": [
      "Transcript has been generated.\n",
      "Transcript has been added to the folder.\n",
      "Generating transcript of speech_39_\"2024-10-11\"_NV.mp3\n"
     ]
    },
    {
     "name": "stderr",
     "output_type": "stream",
     "text": [
      "Whisper did not predict an ending timestamp, which can happen if audio is cut off in the middle of a word. Also make sure WhisperTimeStampLogitsProcessor was used during generation.\n"
     ]
    },
    {
     "name": "stdout",
     "output_type": "stream",
     "text": [
      "Transcript has been generated.\n",
      "Transcript has been added to the folder.\n",
      "Generating transcript of speech_40_\"2024-10-11\"_CO.mp3\n",
      "Transcript has been generated.\n",
      "Transcript has been added to the folder.\n",
      "Generating transcript of speech_41_\"2024-10-12\"_CA.mp3\n"
     ]
    },
    {
     "name": "stderr",
     "output_type": "stream",
     "text": [
      "Whisper did not predict an ending timestamp, which can happen if audio is cut off in the middle of a word. Also make sure WhisperTimeStampLogitsProcessor was used during generation.\n"
     ]
    },
    {
     "name": "stdout",
     "output_type": "stream",
     "text": [
      "Transcript has been generated.\n",
      "Transcript has been added to the folder.\n",
      "Generating transcript of speech_42_\"2024-10-13\"_AZ.mp3\n",
      "Transcript has been generated.\n",
      "Transcript has been added to the folder.\n",
      "Generating transcript of speech_43_\"2024-10-14\"_PA.mp3\n"
     ]
    },
    {
     "name": "stderr",
     "output_type": "stream",
     "text": [
      "Whisper did not predict an ending timestamp, which can happen if audio is cut off in the middle of a word. Also make sure WhisperTimeStampLogitsProcessor was used during generation.\n"
     ]
    },
    {
     "name": "stdout",
     "output_type": "stream",
     "text": [
      "Transcript has been generated.\n",
      "Transcript has been added to the folder.\n",
      "Generating transcript of speech_44_\"2024-10-15\"_GA.mp3\n"
     ]
    },
    {
     "name": "stderr",
     "output_type": "stream",
     "text": [
      "Whisper did not predict an ending timestamp, which can happen if audio is cut off in the middle of a word. Also make sure WhisperTimeStampLogitsProcessor was used during generation.\n"
     ]
    },
    {
     "name": "stdout",
     "output_type": "stream",
     "text": [
      "Transcript has been generated.\n",
      "Transcript has been added to the folder.\n",
      "Generating transcript of speech_45_\"2024-10-18\"_MI.mp3\n"
     ]
    },
    {
     "name": "stderr",
     "output_type": "stream",
     "text": [
      "Whisper did not predict an ending timestamp, which can happen if audio is cut off in the middle of a word. Also make sure WhisperTimeStampLogitsProcessor was used during generation.\n"
     ]
    },
    {
     "name": "stdout",
     "output_type": "stream",
     "text": [
      "Transcript has been generated.\n",
      "Transcript has been added to the folder.\n",
      "Generating transcript of speech_46_\"2024-10-19\"_PA.mp3\n"
     ]
    },
    {
     "name": "stderr",
     "output_type": "stream",
     "text": [
      "Whisper did not predict an ending timestamp, which can happen if audio is cut off in the middle of a word. Also make sure WhisperTimeStampLogitsProcessor was used during generation.\n"
     ]
    },
    {
     "name": "stdout",
     "output_type": "stream",
     "text": [
      "Transcript has been generated.\n",
      "Transcript has been added to the folder.\n",
      "Generating transcript of speech_47_\"2024-10-20\"_PA.mp3\n",
      "Transcript has been generated.\n",
      "Transcript has been added to the folder.\n",
      "Generating transcript of speech_48_\"2024-10-21\"_NC.mp3\n",
      "Transcript has been generated.\n",
      "Transcript has been added to the folder.\n",
      "Generating transcript of speech_49_\"2024-10-22\"_NC.mp3\n"
     ]
    },
    {
     "name": "stderr",
     "output_type": "stream",
     "text": [
      "Whisper did not predict an ending timestamp, which can happen if audio is cut off in the middle of a word. Also make sure WhisperTimeStampLogitsProcessor was used during generation.\n"
     ]
    },
    {
     "name": "stdout",
     "output_type": "stream",
     "text": [
      "Transcript has been generated.\n",
      "Transcript has been added to the folder.\n",
      "Generating transcript of speech_50_\"2024-10-23\"_GA.mp3\n",
      "Transcript has been generated.\n",
      "Transcript has been added to the folder.\n",
      "Generating transcript of speech_51_\"2024-10-24\"_AZ.mp3\n"
     ]
    },
    {
     "name": "stderr",
     "output_type": "stream",
     "text": [
      "Whisper did not predict an ending timestamp, which can happen if audio is cut off in the middle of a word. Also make sure WhisperTimeStampLogitsProcessor was used during generation.\n"
     ]
    },
    {
     "name": "stdout",
     "output_type": "stream",
     "text": [
      "Transcript has been generated.\n",
      "Transcript has been added to the folder.\n",
      "Generating transcript of speech_52_\"2024-10-24\"_NV.mp3\n"
     ]
    },
    {
     "name": "stderr",
     "output_type": "stream",
     "text": [
      "Whisper did not predict an ending timestamp, which can happen if audio is cut off in the middle of a word. Also make sure WhisperTimeStampLogitsProcessor was used during generation.\n"
     ]
    },
    {
     "name": "stdout",
     "output_type": "stream",
     "text": [
      "Transcript has been generated.\n",
      "Transcript has been added to the folder.\n",
      "Generating transcript of speech_53_\"2024-10-25\"_MI.mp3\n"
     ]
    },
    {
     "name": "stderr",
     "output_type": "stream",
     "text": [
      "Whisper did not predict an ending timestamp, which can happen if audio is cut off in the middle of a word. Also make sure WhisperTimeStampLogitsProcessor was used during generation.\n"
     ]
    },
    {
     "name": "stdout",
     "output_type": "stream",
     "text": [
      "Transcript has been generated.\n",
      "Transcript has been added to the folder.\n",
      "Generating transcript of speech_54_\"2024-10-26\"_PA.mp3\n",
      "Transcript has been generated.\n",
      "Transcript has been added to the folder.\n",
      "Generating transcript of speech_55_\"2024-10-27\"_NY.mp3\n"
     ]
    },
    {
     "name": "stderr",
     "output_type": "stream",
     "text": [
      "Whisper did not predict an ending timestamp, which can happen if audio is cut off in the middle of a word. Also make sure WhisperTimeStampLogitsProcessor was used during generation.\n"
     ]
    },
    {
     "name": "stdout",
     "output_type": "stream",
     "text": [
      "Transcript has been generated.\n",
      "Transcript has been added to the folder.\n",
      "Generating transcript of speech_56_\"2024-10-28\"_GA.mp3\n",
      "Transcript has been generated.\n",
      "Transcript has been added to the folder.\n",
      "Generating transcript of speech_57_\"2024-10-29\"_PA.mp3\n",
      "Transcript has been generated.\n",
      "Transcript has been added to the folder.\n",
      "Generating transcript of speech_58_\"2024-10-30\"_NC.mp3\n"
     ]
    },
    {
     "name": "stderr",
     "output_type": "stream",
     "text": [
      "Whisper did not predict an ending timestamp, which can happen if audio is cut off in the middle of a word. Also make sure WhisperTimeStampLogitsProcessor was used during generation.\n"
     ]
    },
    {
     "name": "stdout",
     "output_type": "stream",
     "text": [
      "Transcript has been generated.\n",
      "Transcript has been added to the folder.\n",
      "Generating transcript of speech_59_\"2024-10-30\"_WI.mp3\n",
      "Transcript has been generated.\n",
      "Transcript has been added to the folder.\n",
      "Generating transcript of speech_60_\"2024-10-31\"_NM.mp3\n",
      "Transcript has been generated.\n",
      "Transcript has been added to the folder.\n",
      "Generating transcript of speech_61_\"2024-10-31\"_NV.mp3\n",
      "Transcript has been generated.\n",
      "Transcript has been added to the folder.\n",
      "Generating transcript of speech_62_\"2024-10-31\"_AZ.mp3\n"
     ]
    },
    {
     "name": "stderr",
     "output_type": "stream",
     "text": [
      "Whisper did not predict an ending timestamp, which can happen if audio is cut off in the middle of a word. Also make sure WhisperTimeStampLogitsProcessor was used during generation.\n"
     ]
    },
    {
     "name": "stdout",
     "output_type": "stream",
     "text": [
      "Transcript has been generated.\n",
      "Transcript has been added to the folder.\n",
      "Generating transcript of speech_63_\"2024-11-01\"_MI.mp3\n",
      "Transcript has been generated.\n",
      "Transcript has been added to the folder.\n",
      "Generating transcript of speech_64_\"2024-11-01\"_WI.mp3\n",
      "Transcript has been generated.\n",
      "Transcript has been added to the folder.\n",
      "Generating transcript of speech_65_\"2024-11-02\"_NC.mp3\n"
     ]
    },
    {
     "name": "stderr",
     "output_type": "stream",
     "text": [
      "Whisper did not predict an ending timestamp, which can happen if audio is cut off in the middle of a word. Also make sure WhisperTimeStampLogitsProcessor was used during generation.\n"
     ]
    },
    {
     "name": "stdout",
     "output_type": "stream",
     "text": [
      "Transcript has been generated.\n",
      "Transcript has been added to the folder.\n",
      "Generating transcript of speech_66_\"2024-11-02\"_VA.mp3\n"
     ]
    },
    {
     "name": "stderr",
     "output_type": "stream",
     "text": [
      "Whisper did not predict an ending timestamp, which can happen if audio is cut off in the middle of a word. Also make sure WhisperTimeStampLogitsProcessor was used during generation.\n"
     ]
    },
    {
     "name": "stdout",
     "output_type": "stream",
     "text": [
      "Transcript has been generated.\n",
      "Transcript has been added to the folder.\n",
      "Generating transcript of speech_67_\"2024-11-02\"_NC.mp3\n"
     ]
    },
    {
     "name": "stderr",
     "output_type": "stream",
     "text": [
      "Whisper did not predict an ending timestamp, which can happen if audio is cut off in the middle of a word. Also make sure WhisperTimeStampLogitsProcessor was used during generation.\n"
     ]
    },
    {
     "name": "stdout",
     "output_type": "stream",
     "text": [
      "Transcript has been generated.\n",
      "Transcript has been added to the folder.\n",
      "Generating transcript of speech_68_\"2024-11-03\"_PA.mp3\n",
      "Transcript has been generated.\n",
      "Transcript has been added to the folder.\n",
      "Generating transcript of speech_69_\"2024-11-03\"_NC.mp3\n",
      "Transcript has been generated.\n",
      "Transcript has been added to the folder.\n",
      "Generating transcript of speech_70_\"2024-11-03\"_GA.mp3\n",
      "Transcript has been generated.\n",
      "Transcript has been added to the folder.\n",
      "Generating transcript of speech_71_\"2024-11-04\"_NC.mp3\n",
      "Transcript has been generated.\n",
      "Transcript has been added to the folder.\n",
      "Generating transcript of speech_72_\"2024-11-04\"_PA.mp3\n",
      "Transcript has been generated.\n",
      "Transcript has been added to the folder.\n",
      "Generating transcript of speech_73_\"2024-11-04\"_PA.mp3\n",
      "Transcript has been generated.\n",
      "Transcript has been added to the folder.\n",
      "Generating transcript of speech_74_\"2024-11-04\"_MI.mp3\n",
      "Transcript has been generated.\n",
      "Transcript has been added to the folder.\n"
     ]
    }
   ],
   "source": [
    "for i in range(len(url_list)):\n",
    "    if speeches[\"trimming_needed\"][i] == \"Yes\":\n",
    "        continue\n",
    "    else:\n",
    "        print(f\"Generating transcript of speech_{i+1}_{speeches[\"date\"][i]}_{speeches[\"state\"][i]}.mp3\")\n",
    "\n",
    "        result_txt = pipe(f\"./audio_files/speech_{i+1}_{speeches[\"date\"][i]}_{speeches[\"state\"][i]}.mp3\", return_timestamps=True)\n",
    "        text_to_add = list(result_txt.values())[0]\n",
    "\n",
    "        print(\"Transcript has been generated.\")\n",
    "        os.makedirs(\"text_files\", exist_ok=True)\n",
    "        file_path = os.path.join(\"text_files\", f\"speech_{i+1}_{speeches[\"date\"][i]}_{speeches[\"state\"][i]}.txt\")\n",
    "        with open(file_path, 'w', encoding='utf-8') as f:\n",
    "            f.write(text_to_add)\n",
    "\n",
    "        print(\"Transcript has been added to the folder.\")\n"
   ]
  },
  {
   "cell_type": "code",
   "execution_count": null,
   "metadata": {},
   "outputs": [],
   "source": []
  }
 ],
 "metadata": {
  "kernelspec": {
   "display_name": "base",
   "language": "python",
   "name": "python3"
  },
  "language_info": {
   "codemirror_mode": {
    "name": "ipython",
    "version": 3
   },
   "file_extension": ".py",
   "mimetype": "text/x-python",
   "name": "python",
   "nbconvert_exporter": "python",
   "pygments_lexer": "ipython3",
   "version": "3.12.7"
  }
 },
 "nbformat": 4,
 "nbformat_minor": 2
}
